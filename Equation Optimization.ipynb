{
 "cells": [
  {
   "cell_type": "markdown",
   "metadata": {},
   "source": [
    "**Problem Statement**\n",
    "\n",
    "The y = target is to maximize this equation ASAP <br/>\n",
    "`y = (w1 * x1) + (w2 * x2) + (w3 * x3) + (w4 * x4) + (w5 * x5) + (6w * x6)` <br/>\n",
    "where <br/> \n",
    "`(x1, x2, x3, x4, x5, x6) = (4, -2, 3.5, 5, -11, -4.7)`\n",
    "\n",
    "---\n",
    "\n",
    "- What are the best values for the 6 weights w1 to w6?\n",
    "- We are going to use the genetic algorithm for the best possible values after a number of generations."
   ]
  },
  {
   "cell_type": "markdown",
   "metadata": {},
   "source": [
    "---\n",
    "**Initialize equation inputs :**"
   ]
  },
  {
   "cell_type": "code",
   "execution_count": 19,
   "metadata": {},
   "outputs": [],
   "source": [
    "import numpy\n",
    "\n",
    "# Inputs of the Equation\n",
    "equation_inputs = [4, -2, 3.5, 5, -11, -4.7]\n",
    "\n",
    "# Number of weights to be optimized\n",
    "num_weights = 6"
   ]
  },
  {
   "cell_type": "markdown",
   "metadata": {},
   "source": [
    "---\n",
    "**Genetic algorithm parameters :**\n",
    "- Mating pool size\n",
    "- Population size"
   ]
  },
  {
   "cell_type": "code",
   "execution_count": 20,
   "metadata": {},
   "outputs": [],
   "source": [
    "solution_per_population = 8\n",
    "num_parents_mating = 4"
   ]
  },
  {
   "cell_type": "markdown",
   "metadata": {},
   "source": [
    "---\n",
    "**Creation of a population :**"
   ]
  },
  {
   "cell_type": "code",
   "execution_count": 21,
   "metadata": {},
   "outputs": [
    {
     "name": "stdout",
     "output_type": "stream",
     "text": [
      "[[ 3.27041601  0.94077549  0.44131624  1.83041256  1.67470965  3.13927158]\n",
      " [ 3.84687022 -1.24528875 -3.81549802  0.12190864  1.27927097 -3.80432504]\n",
      " [-0.92353159 -1.77627782 -3.281175    0.93036445 -0.84497689 -2.2792554 ]\n",
      " [-0.0622672   2.75506323 -1.03257699 -2.91307512  3.38787124 -1.21428905]\n",
      " [-0.41172594  2.92535939 -3.85624053 -1.30798046  3.53946993  0.70259583]\n",
      " [-1.36264749  0.53837792 -2.19650854 -2.269148    3.33010662 -0.02369836]\n",
      " [ 1.69717225 -3.34407498 -0.80984937 -3.49045293 -2.97387518  1.45993163]\n",
      " [ 0.69483804  0.67784739 -3.21527153  2.76231612  3.17101655  2.21183312]]\n"
     ]
    }
   ],
   "source": [
    "# Defining the population size\n",
    "# The population will have solution per population chromosome where each chromosome has num of weights genes\n",
    "population_size = (solution_per_population, num_weights) \n",
    "\n",
    "# Creating the initial population\n",
    "new_population = numpy.random.uniform(low=-4.0, high=4.0, size = population_size)\n",
    "print(new_population)"
   ]
  },
  {
   "cell_type": "markdown",
   "metadata": {},
   "source": [
    "---\n",
    "**Defining genetic algorithm functions for the ff :**\n",
    "- Calculation of population fitness\n",
    "- Selection of mating pool\n",
    "- Offspring crossover\n",
    "- Crossover mutation"
   ]
  },
  {
   "cell_type": "code",
   "execution_count": 22,
   "metadata": {},
   "outputs": [],
   "source": [
    "def cal_population_fitness(equation_inputs, population):\n",
    "    # Calculating the fitness value of each solution in the current population.\n",
    "    # The fitness function caulcuates the sum of products between each input and its corresponding weight.\n",
    "    fitness = numpy.sum(population * equation_inputs, axis = 1)\n",
    "    return fitness\n",
    "\n",
    "def select_mating_pool(population, fitness, num_parents):\n",
    "    # Selecting the best individuals in the current generation as parents for producing the offspring of the next generation.\n",
    "    parents = numpy.empty((num_parents, population.shape[1]))\n",
    "    for parent_num in range(num_parents):\n",
    "        max_fitness_idx = numpy.where(fitness == numpy.max(fitness))\n",
    "        max_fitness_idx = max_fitness_idx[0][0]\n",
    "        parents[parent_num, :] = population[max_fitness_idx, :]\n",
    "        fitness[max_fitness_idx] = -99999999999\n",
    "    return parents\n",
    "\n",
    "def crossover(parents, offspring_size):\n",
    "    offspring = numpy.empty(offspring_size)\n",
    "    # The point at which crossover takes place between two parents. Usually it is at the center.\n",
    "    crossover_point = numpy.uint8(offspring_size[1] / 2)\n",
    "    for k in range(offspring_size[0]):\n",
    "        # Index of the first parent to mate.\n",
    "        parent1_idx = k % parents.shape[0]\n",
    "        # Index of the second parent to mate.\n",
    "        parent2_idx = (k + 1) % parents.shape[0]\n",
    "        # The new offspring will have its first half of its genes taken from the first parent.\n",
    "        offspring[k, 0:crossover_point] = parents[parent1_idx, 0:crossover_point]\n",
    "        # The new offspring will have its second half of its genes taken from the second parent.\n",
    "        offspring[k, crossover_point:] = parents[parent2_idx, crossover_point:]\n",
    "    return offspring\n",
    "\n",
    "def mutation(offspring_crossover):\n",
    "    # Mutation changes a single gene in each offspring randomly.\n",
    "    for idx in range(offspring_crossover.shape[0]):\n",
    "        # The random value to be added to the gene.\n",
    "        random_value = numpy.random.uniform(-1.0, 1.0, 1)\n",
    "        offspring_crossover[idx, 4] = offspring_crossover[idx, 4] + random_value\n",
    "    return offspring_crossover"
   ]
  },
  {
   "cell_type": "markdown",
   "metadata": {},
   "source": [
    "---\n",
    "**Generation creation and training :**"
   ]
  },
  {
   "cell_type": "code",
   "execution_count": 23,
   "metadata": {},
   "outputs": [
    {
     "name": "stdout",
     "output_type": "stream",
     "text": [
      "Generation :  0\n",
      "Best result :  33.656634129235904\n",
      "Generation :  1\n",
      "Best result :  36.20535637547718\n",
      "Generation :  2\n",
      "Best result :  40.84165332153658\n",
      "Generation :  3\n",
      "Best result :  41.45567265265902\n",
      "Generation :  4\n",
      "Best result :  51.22471185825478\n"
     ]
    }
   ],
   "source": [
    "num_generations = 5\n",
    "\n",
    "for generation in range(num_generations):\n",
    "    print(\"Generation : \", generation)\n",
    "    \n",
    "    # Measing the fitness of each chromosome in the population.\n",
    "    fitness = cal_population_fitness(equation_inputs, new_population)\n",
    "\n",
    "    # Selecting the best parents in the population for mating.\n",
    "    parents = select_mating_pool(new_population, fitness, num_parents_mating)\n",
    "\n",
    "    # Generating next generation using crossover.\n",
    "    offspring_crossover = crossover(parents, offspring_size = (population_size[0] - parents.shape[0], num_weights))\n",
    "\n",
    "    # Adding some variations to the offsrping using mutation.\n",
    "    offspring_mutation = mutation(offspring_crossover)\n",
    "\n",
    "    # Creating the new population based on the parents and offspring.\n",
    "    new_population[0:parents.shape[0], :] = parents\n",
    "    new_population[parents.shape[0]:, :] = offspring_mutation\n",
    "\n",
    "    # The best result in the current iteration.\n",
    "    print(\"Best result : \", numpy.max(numpy.sum(new_population * equation_inputs, axis=1)))"
   ]
  },
  {
   "cell_type": "markdown",
   "metadata": {},
   "source": [
    "---\n",
    "**Getting results from generation training :**"
   ]
  },
  {
   "cell_type": "code",
   "execution_count": 24,
   "metadata": {},
   "outputs": [
    {
     "name": "stdout",
     "output_type": "stream",
     "text": [
      "Best solution :  [[[ 1.69717225 -3.34407498 -0.80984937  0.93036445 -2.29254755\n",
      "   -2.2792554 ]]]\n",
      "Best solution fitness :  [51.22471186]\n"
     ]
    }
   ],
   "source": [
    "# Getting the best solution after iterating finishing all generations.\n",
    "# At first, the fitness is calculated for each solution in the final generation.\n",
    "fitness = cal_population_fitness(equation_inputs, new_population)\n",
    "\n",
    "# Then return the index of that solution corresponding to the best fitness.\n",
    "best_match_idx = numpy.where(fitness == numpy.max(fitness))\n",
    "\n",
    "print(\"Best solution : \", new_population[best_match_idx, :])\n",
    "print(\"Best solution fitness : \", fitness[best_match_idx])"
   ]
  }
 ],
 "metadata": {
  "kernelspec": {
   "display_name": "Python 3",
   "language": "python",
   "name": "python3"
  },
  "language_info": {
   "codemirror_mode": {
    "name": "ipython",
    "version": 3
   },
   "file_extension": ".py",
   "mimetype": "text/x-python",
   "name": "python",
   "nbconvert_exporter": "python",
   "pygments_lexer": "ipython3",
   "version": "3.6.5"
  }
 },
 "nbformat": 4,
 "nbformat_minor": 2
}
