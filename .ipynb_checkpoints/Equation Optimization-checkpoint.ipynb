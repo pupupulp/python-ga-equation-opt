{
 "cells": [
  {
   "cell_type": "markdown",
   "metadata": {},
   "source": [
    "### Equation\n",
    "`Y = w1*x1 + w2*x2 + w3*x3 + w4*x4 + w5*x5 + w6*x6`\n",
    "\n",
    "##### Inputs\n",
    "`(x1 to x6)`\n",
    "\n",
    "##### Weights\n",
    "`(w1 to w6)`"
   ]
  },
  {
   "cell_type": "code",
   "execution_count": 1,
   "metadata": {},
   "outputs": [],
   "source": [
    "# Inputs of the Equation\n",
    "equation_inputs = [4, -2, 3.5, 5, -11, -4.7]\n",
    "\n",
    "# Number of weights to be optimized\n",
    "num_weights = 6"
   ]
  },
  {
   "cell_type": "code",
   "execution_count": 2,
   "metadata": {},
   "outputs": [],
   "source": [
    "import numpy\n",
    "\n",
    "solution_per_population = 8\n",
    "population_size = (solution_per_population, num_weights)\n",
    "\n",
    "new_population = numpy.random.uniform(low = -4.0, high = 4.0, size = population_size)"
   ]
  },
  {
   "cell_type": "code",
   "execution_count": null,
   "metadata": {},
   "outputs": [],
   "source": [
    "num_generations = 5\n",
    "num_parents_mating = 4\n",
    "\n",
    "for generation in range(num_generations) :\n",
    "    fitness = cal_population_fitness(equation_inputs, new_population)\n",
    "    parents = select_mating_pool(new_population, fitness, num_parents_mating)\n",
    "    \n",
    "    offspring_crossover = crossover(parents, offspring_size = (population_size[0] - parents.shape[0], num_weights))\n",
    "    offspring_mutation = mutation(offspring_crossover)\n",
    "    \n",
    "    new_population[0:parents.shape[0], :] = parents\n",
    "    new_population[parents.shape[0]:, :] = offspring_mutation"
   ]
  },
  {
   "cell_type": "code",
   "execution_count": null,
   "metadata": {},
   "outputs": [],
   "source": [
    "def cal_population_fitness(equation_inputs, population) :\n",
    "    return numpy.sum(population * equation_inputs, axis = 1)\n",
    "\n",
    "def select_mating_pool(population, fitness, num_parents) :\n",
    "    parents = numpy.empty((num_parents, population.shape[1]))\n",
    "    for parent_num in range(num_parents) :\n",
    "        max_fitness_idx = numpy.where(fitness == numpy.max(fitness))\n",
    "        max_fitness_idx = max_fitness_idx[0][0]\n",
    "        parents[parent_num, :] = pop[max_fitness_idx, :]\n",
    "        fitness[max_fitness_idx] = -99999999999\n",
    "    return parents\n",
    "\n",
    "def crossover(parents, offspring_size) :\n",
    "    offspring = numpy.empty(offspring_size)\n",
    "    crossover_point = numpy.uint8(offspring_size[1] / 2)\n",
    "    \n",
    "    for k in range(offspring_size[0]) :\n",
    "        parent1_idx = k % parents.shape[0]\n",
    "        parent2_idx = (k + 1) % parents.shape[0]\n",
    "        \n",
    "        offspring[k, 0:crossover_point] = parents[parent1_idx, 0:crossover_point]\n",
    "        offspring[k, crossover_point:] = parents[parent2_idx, crossover_point:]\n",
    "    \n",
    "    return offspring\n",
    "\n",
    "def mutation(offspring_crossover) :\n",
    "    for idx = range(offspring_crossover.shape[0]) :\n",
    "        random_value = numpy.random.uniform(-1.0, 1.0, 1)\n",
    "        offspring_crossover[idx, 4] = offspring_crossover[idx, 4] + random_value\n",
    "    \n",
    "    return offspring_crossover"
   ]
  }
 ],
 "metadata": {
  "kernelspec": {
   "display_name": "Python 3",
   "language": "python",
   "name": "python3"
  },
  "language_info": {
   "codemirror_mode": {
    "name": "ipython",
    "version": 3
   },
   "file_extension": ".py",
   "mimetype": "text/x-python",
   "name": "python",
   "nbconvert_exporter": "python",
   "pygments_lexer": "ipython3",
   "version": "3.6.5"
  }
 },
 "nbformat": 4,
 "nbformat_minor": 2
}
