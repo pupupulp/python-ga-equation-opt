{
 "cells": [
  {
   "cell_type": "markdown",
   "metadata": {},
   "source": [
    "### Equation\n",
    "`Y = w1*x1 + w2*x2 + w3*x3 + w4*x4 + w5*x5 + w6*x6`\n",
    "\n",
    "##### Inputs\n",
    "`(x1 to x6)`\n",
    "\n",
    "##### Weights\n",
    "`(w1 to w6)`"
   ]
  },
  {
   "cell_type": "code",
   "execution_count": null,
   "metadata": {},
   "outputs": [],
   "source": [
    "# Inputs of the Equation\n",
    "equation_inputs = [4, -2, 3.5, 5, -11, -4.7]\n",
    "\n",
    "# Number of weights to be optimized\n",
    "num_weights = 6"
   ]
  }
 ],
 "metadata": {
  "kernelspec": {
   "display_name": "Python 3",
   "language": "python",
   "name": "python3"
  },
  "language_info": {
   "codemirror_mode": {
    "name": "ipython",
    "version": 3
   },
   "file_extension": ".py",
   "mimetype": "text/x-python",
   "name": "python",
   "nbconvert_exporter": "python",
   "pygments_lexer": "ipython3",
   "version": "3.6.5"
  }
 },
 "nbformat": 4,
 "nbformat_minor": 2
}
